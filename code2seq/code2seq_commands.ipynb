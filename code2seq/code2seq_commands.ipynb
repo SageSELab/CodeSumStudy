{
 "cells": [
  {
   "cell_type": "markdown",
   "metadata": {
    "ExecuteTime": {
     "end_time": "2021-04-25T06:34:11.771604Z",
     "start_time": "2021-04-25T06:34:11.769100Z"
    }
   },
   "source": [
    "#### funcom dataset preprocess"
   ]
  },
  {
   "cell_type": "code",
   "execution_count": null,
   "metadata": {
    "ExecuteTime": {
     "end_time": "2021-04-25T06:34:24.074794Z",
     "start_time": "2021-04-25T06:34:24.072308Z"
    }
   },
   "outputs": [],
   "source": [
    "import json\n",
    "import os\n",
    "import pickle"
   ]
  },
  {
   "cell_type": "code",
   "execution_count": null,
   "metadata": {
    "ExecuteTime": {
     "end_time": "2021-04-25T06:34:31.645026Z",
     "start_time": "2021-04-25T06:34:31.642365Z"
    }
   },
   "outputs": [],
   "source": [
    "DIR = 'funcom_processed'\n",
    "OUTDIR = 'data'"
   ]
  },
  {
   "cell_type": "code",
   "execution_count": null,
   "metadata": {
    "ExecuteTime": {
     "end_time": "2021-04-25T07:28:08.455411Z",
     "start_time": "2021-04-25T07:28:08.442173Z"
    }
   },
   "outputs": [],
   "source": [
    "with open(os.path.join(DIR,'funcom_processed.pickle'),'rb') as f:\n",
    "    all_data = pickle.load(f)"
   ]
  },
  {
   "cell_type": "code",
   "execution_count": null,
   "metadata": {
    "ExecuteTime": {
     "end_time": "2021-04-25T06:35:36.107817Z",
     "start_time": "2021-04-25T06:35:36.045046Z"
    }
   },
   "outputs": [],
   "source": [
    "# comments_l = list(comments.values())\n",
    "# functions_l = list(functions.values())\n",
    "functions_l  = list(all_data['Methods'].values)\n",
    "comments_l  = list(all_data['Docstring'].values)\n",
    "\n",
    "tr_end = 400000\n",
    "val_st = tr_end\n",
    "val_end = val_st+50000\n",
    "tst_st = val_end\n",
    "tst_end = tst_st+50000\n",
    "comm_train = comments_l[:tr_end]\n",
    "func_train = functions_l[:tr_end]\n",
    "comm_val = comments_l[val_st:val_end]\n",
    "func_val = functions_l[val_st:val_end]\n",
    "comm_test = comments_l[tst_st:tst_end]\n",
    "func_test = functions_l[tst_st:tst_end]"
   ]
  },
  {
   "cell_type": "code",
   "execution_count": null,
   "metadata": {
    "ExecuteTime": {
     "end_time": "2021-04-25T06:35:44.241619Z",
     "start_time": "2021-04-25T06:35:44.237279Z"
    }
   },
   "outputs": [],
   "source": [
    "def write_to_file(filepath, func_dict, comm_dict):\n",
    "    with open(filepath,'w') as out:\n",
    "        i=0\n",
    "        for c,n in zip(func_dict,comm_dict):\n",
    "            exam = {}\n",
    "            exam['code']=c\n",
    "            exam['nl']=n\n",
    "            json.dump(exam, out)\n",
    "            out.write(\"\\n\")\n",
    "            i=i+1\n",
    "            if i%10000==0:\n",
    "                print(\"{} processed\".format(i))"
   ]
  },
  {
   "cell_type": "code",
   "execution_count": null,
   "metadata": {
    "ExecuteTime": {
     "end_time": "2021-04-25T06:35:54.152704Z",
     "start_time": "2021-04-25T06:35:54.149096Z"
    }
   },
   "outputs": [],
   "source": [
    "comm_temp = comm_train[:10]\n",
    "func_temp = func_train[:10]\n",
    "write_to_file(os.path.join(OUTDIR,'temp.json'), func_temp, comm_temp)"
   ]
  },
  {
   "cell_type": "code",
   "execution_count": null,
   "metadata": {
    "ExecuteTime": {
     "end_time": "2021-04-25T06:36:16.499017Z",
     "start_time": "2021-04-25T06:36:09.869447Z"
    },
    "scrolled": true
   },
   "outputs": [],
   "source": [
    "OUTDIR = 'data'\n",
    "write_to_file(os.path.join(OUTDIR,'train.json'), func_train, comm_train)\n",
    "write_to_file(os.path.join(OUTDIR,'valid.json'), func_val, comm_val)\n",
    "write_to_file(os.path.join(OUTDIR,'test.json'), func_test, comm_test)"
   ]
  },
  {
   "cell_type": "markdown",
   "metadata": {},
   "source": [
    "#### test change in preproc/java_fiel_creator.py"
   ]
  },
  {
   "cell_type": "code",
   "execution_count": null,
   "metadata": {
    "ExecuteTime": {
     "end_time": "2021-04-25T06:36:37.616121Z",
     "start_time": "2021-04-25T06:36:37.610387Z"
    }
   },
   "outputs": [],
   "source": [
    "import re\n",
    "def extract_replacements(code):\n",
    "    varEncDict = {}\n",
    "    varDecDict = {}\n",
    "#     print(code)\n",
    "    codecopy = re.sub(r\"\\([A-z]+<.*>\", \"(type \", code)\n",
    "    codecopy = re.sub(r\"\\,[A-z]+<.*>\", \",type \", codecopy)\n",
    "    codecopy = re.sub(r\"@+.*(Test|Override)\\s\", \"ftype\", codecopy)\n",
    "    dectype = ['public','private','static','protected']\n",
    "    for dec in dectype:\n",
    "        fresult = codecopy.find(dec)\n",
    "        if fresult!=-1:\n",
    "            codecopy = codecopy[fresult:]\n",
    "            break\n",
    "    codecopy = re.sub(r\"@+.*(public|private|static|protected)\\s\", \"declaration\", codecopy)\n",
    "    codecopy = codecopy.lstrip()\n",
    "    decl = re.split('\\n|{',codecopy)[0]\n",
    "    print(decl)\n",
    "    varDecl = re.findall(\"\\((.*?)\\)\", decl)[0]\n",
    "    varList = varDecl.split(\",\")"
   ]
  },
  {
   "cell_type": "code",
   "execution_count": null,
   "metadata": {},
   "outputs": [],
   "source": [
    "code = '    @Override\\n\\tpublic void mousePressed(MouseEvent e) { // mac\\n\\tmaybeShowPopup(e);\\n    }\\n'\n",
    "extract_replacements(code)"
   ]
  },
  {
   "cell_type": "markdown",
   "metadata": {},
   "source": [
    "#### dataset buld commands"
   ]
  },
  {
   "cell_type": "code",
   "execution_count": null,
   "metadata": {},
   "outputs": [],
   "source": [
    "!python3 preproc/java_files_creator.py"
   ]
  },
  {
   "cell_type": "code",
   "execution_count": null,
   "metadata": {},
   "outputs": [],
   "source": [
    "!bash preproc/preprocess.sh"
   ]
  },
  {
   "cell_type": "markdown",
   "metadata": {},
   "source": [
    "#### study result step 1"
   ]
  },
  {
   "cell_type": "code",
   "execution_count": null,
   "metadata": {
    "ExecuteTime": {
     "end_time": "2021-04-25T06:44:20.004942Z",
     "start_time": "2021-04-25T06:44:20.002499Z"
    }
   },
   "outputs": [],
   "source": [
    "import pandas as pd"
   ]
  },
  {
   "cell_type": "code",
   "execution_count": null,
   "metadata": {
    "ExecuteTime": {
     "end_time": "2021-04-25T06:44:22.520824Z",
     "start_time": "2021-04-25T06:44:21.149193Z"
    }
   },
   "outputs": [],
   "source": [
    "data = pd.read_excel(\"results/Study result.xlsx\", sheet_name='Copy').fillna(0)\n",
    "cat = pd.read_excel(\"results/Study result.xlsx\", sheet_name='catagories').fillna(0)\n",
    "data=data.iloc[:150,:]\n",
    "data = data.drop(columns=['Raw_Methods', 'Ground_Truth'])"
   ]
  },
  {
   "cell_type": "markdown",
   "metadata": {
    "ExecuteTime": {
     "end_time": "2021-04-25T06:44:33.808069Z",
     "start_time": "2021-04-25T06:44:33.804508Z"
    }
   },
   "source": [
    "##### column element count"
   ]
  },
  {
   "cell_type": "code",
   "execution_count": null,
   "metadata": {
    "ExecuteTime": {
     "end_time": "2021-04-25T06:44:45.479809Z",
     "start_time": "2021-04-25T06:44:45.454483Z"
    }
   },
   "outputs": [],
   "source": [
    "cat.head(1)"
   ]
  },
  {
   "cell_type": "code",
   "execution_count": null,
   "metadata": {
    "ExecuteTime": {
     "end_time": "2021-04-25T06:44:53.456406Z",
     "start_time": "2021-04-25T06:44:53.448609Z"
    }
   },
   "outputs": [],
   "source": [
    "data.columns"
   ]
  },
  {
   "cell_type": "code",
   "execution_count": null,
   "metadata": {
    "ExecuteTime": {
     "end_time": "2021-04-25T06:45:04.019463Z",
     "start_time": "2021-04-25T06:45:03.983384Z"
    }
   },
   "outputs": [],
   "source": [
    "all_count={}\n",
    "all_count_df=pd.DataFrame()\n",
    "for c in data.columns[6:]:\n",
    "    all_count[c]=  dict.fromkeys(list(cat['original']),None)\n",
    "    for d, coun in dict(data[c].value_counts()).items():\n",
    "        all_count[c][d]=coun\n",
    "all_count_df = pd.DataFrame(all_count).fillna(0)"
   ]
  },
  {
   "cell_type": "code",
   "execution_count": null,
   "metadata": {
    "ExecuteTime": {
     "end_time": "2021-04-25T06:45:11.508574Z",
     "start_time": "2021-04-25T06:45:11.202224Z"
    }
   },
   "outputs": [],
   "source": [
    "all_count_df = all_count_df.loc[~(all_count_df==0).all(axis=1)]"
   ]
  },
  {
   "cell_type": "code",
   "execution_count": null,
   "metadata": {
    "ExecuteTime": {
     "end_time": "2021-04-25T06:45:17.805080Z",
     "start_time": "2021-04-25T06:45:17.796514Z"
    }
   },
   "outputs": [],
   "source": [
    "all_count_df.columns"
   ]
  },
  {
   "cell_type": "code",
   "execution_count": null,
   "metadata": {
    "ExecuteTime": {
     "end_time": "2021-04-25T06:45:31.130200Z",
     "start_time": "2021-04-25T06:45:28.013665Z"
    }
   },
   "outputs": [],
   "source": [
    "cat_d = (dict(zip(cat['original'],cat['name'])))\n",
    "all_count_df['index']=all_count_df.index\n",
    "all_count_df['name']=all_count_df.apply(lambda x: cat_d[x['index']], axis=1)\n",
    "\n",
    "import matplotlib.pyplot as plt\n",
    "\n",
    "fig=plt.figure(figsize=(13,10))\n",
    "fig.show()\n",
    "ax=fig.add_subplot(211)\n",
    "# ax.set_ylim([0, 5])\n",
    "all_count_df.plot.bar(ax=ax, y= ['CodeBERT Conflict', 'NeuralCodeSum Conflict', \n",
    "                                'Code2Seq Conflict'],x='name',rot=90, width = 0.5)\n",
    "plt.legend([\"CodeBert\", \"NeuralCodeSum\",\"Code2Seq\"])\n",
    "plt.legend(loc=2)\n",
    "# for i in [0,3,13,15,19,26,31,36]:\n",
    "#     ax.get_xticklabels()[i].set_color(\"red\")\n",
    "# ax.get_xticklabels()[13].set_color(\"blue\")\n",
    "plt.ylabel('Count')\n",
    "plt.xlabel('Catagory Id')\n",
    "plt.title('Error catagorical count')\n",
    "plt.tight_layout()\n",
    "plt.savefig('results/count_fig.pdf')\n",
    "plt.draw()"
   ]
  },
  {
   "cell_type": "code",
   "execution_count": null,
   "metadata": {
    "ExecuteTime": {
     "end_time": "2021-04-25T06:45:39.055020Z",
     "start_time": "2021-04-25T06:45:39.038202Z"
    }
   },
   "outputs": [],
   "source": [
    "all_count_df.sum(axis = 0, skipna = True)"
   ]
  },
  {
   "cell_type": "code",
   "execution_count": null,
   "metadata": {
    "ExecuteTime": {
     "end_time": "2021-04-25T06:45:52.372259Z",
     "start_time": "2021-04-25T06:45:52.362028Z"
    }
   },
   "outputs": [],
   "source": [
    "all_count_df\n",
    "all_count_df.to_csv('results/count_150.csv')"
   ]
  },
  {
   "cell_type": "markdown",
   "metadata": {},
   "source": [
    "##### conflict calculation"
   ]
  },
  {
   "cell_type": "code",
   "execution_count": null,
   "metadata": {
    "ExecuteTime": {
     "end_time": "2021-04-25T06:46:20.782689Z",
     "start_time": "2021-04-25T06:46:20.751434Z"
    }
   },
   "outputs": [],
   "source": [
    "def conf_res(x,y,z):\n",
    "#     if x!=0 or y!=0 or z!=0:\n",
    "#         if x==y or x==z or y==z:\n",
    "#             return 'no conflict'\n",
    "#         else:\n",
    "#             return 'conflict'\n",
    "#     else:\n",
    "#         return 'no pair'\n",
    "    if x==0:\n",
    "        if y!=0 and z!=0 and y!=z:\n",
    "            return 'conflict'\n",
    "        elif y!=0 and z!=0 and y==z:\n",
    "            return 'no conflict'\n",
    "        else:\n",
    "            return 'no pair'\n",
    "    if y==0:\n",
    "        if x!=0 and z!=0 and x!=z:\n",
    "            return 'conflict'\n",
    "        elif x!=0 and z!=0 and x==z:\n",
    "            return 'no conflict'\n",
    "        else:\n",
    "            return 'no pair'\n",
    "    if z==0:\n",
    "        if y!=0 and x!=0 and y!=x:\n",
    "            return 'conflict'\n",
    "        elif y!=0 and x!=0 and y==x:\n",
    "            return 'no conflict'\n",
    "        else:\n",
    "            return 'no pair'\n",
    "                \n",
    "        \n",
    "if __name__ == '__main__':\n",
    "    cdata = data.copy()\n",
    "    print(data.columns)\n",
    "    cols = list(data.columns[6:])\n",
    "    print(cols)\n",
    "    cdata['codebert-u'] = cdata.apply(lambda x: conf_res(x[cols[0]],x[cols[3]], x[cols[6]]),axis=1)\n",
    "    cdata['neural-u'] = cdata.apply(lambda x: conf_res(x[cols[1]],x[cols[4]], x[cols[7]]),axis=1)\n",
    "    cdata['code2seq-u'] = cdata.apply(lambda x: conf_res(x[cols[2]],x[cols[5]], x[cols[8]]),axis=1)\n",
    "    print(\"----\",cdata.columns[18:])\n",
    "    conflict_count={}\n",
    "    for c in cdata.columns[18:]:\n",
    "        conflict_count[c]= cat_count_dict = dict.fromkeys(list(cdata['codebert-u']),None)\n",
    "        for d, coun in dict(cdata[c].value_counts()).items():\n",
    "            conflict_count[c][d]=coun\n",
    "    all_conflict_df = pd.DataFrame(conflict_count)    "
   ]
  },
  {
   "cell_type": "code",
   "execution_count": null,
   "metadata": {
    "ExecuteTime": {
     "end_time": "2021-04-25T06:46:31.801951Z",
     "start_time": "2021-04-25T06:46:31.794272Z"
    }
   },
   "outputs": [],
   "source": [
    "for i,c in enumerate(cdata.columns[8:]):\n",
    "    print(i,c)"
   ]
  },
  {
   "cell_type": "code",
   "execution_count": null,
   "metadata": {
    "ExecuteTime": {
     "end_time": "2021-04-25T06:46:41.568749Z",
     "start_time": "2021-04-25T06:46:41.562568Z"
    }
   },
   "outputs": [],
   "source": [
    "cdata.columns[18:]"
   ]
  },
  {
   "cell_type": "code",
   "execution_count": null,
   "metadata": {
    "ExecuteTime": {
     "end_time": "2021-04-25T06:46:55.421471Z",
     "start_time": "2021-04-25T06:46:55.416666Z"
    }
   },
   "outputs": [],
   "source": [
    "all_conflict_df.to_csv('results/conflict_150.csv')"
   ]
  },
  {
   "cell_type": "code",
   "execution_count": null,
   "metadata": {
    "ExecuteTime": {
     "end_time": "2021-04-25T06:47:03.642338Z",
     "start_time": "2021-04-25T06:47:03.632178Z"
    }
   },
   "outputs": [],
   "source": [
    "all_conflict_df"
   ]
  },
  {
   "cell_type": "markdown",
   "metadata": {},
   "source": [
    "### stat significance"
   ]
  },
  {
   "cell_type": "markdown",
   "metadata": {},
   "source": [
    "##### preprocessing for code2seq codeber index and reference matching"
   ]
  },
  {
   "cell_type": "code",
   "execution_count": null,
   "metadata": {
    "ExecuteTime": {
     "end_time": "2021-04-26T02:12:26.089871Z",
     "start_time": "2021-04-26T02:12:23.383244Z"
    }
   },
   "outputs": [],
   "source": [
    "from collections import Counter\n",
    "  \n",
    "def removeElements(lst, k):\n",
    "    counted = Counter(lst)\n",
    "      \n",
    "    temp_lst = []\n",
    "    for el in counted:\n",
    "        if counted[el] > k:\n",
    "            temp_lst.append(el)\n",
    "              \n",
    "    res_lst = []\n",
    "    for el in lst:\n",
    "        if el not in temp_lst:\n",
    "            res_lst.append(el)\n",
    "              \n",
    "    return(res_lst)\n",
    "      \n",
    "# Driver code\n",
    "\n",
    "\n",
    "with open('stat/nc_ref.txt', 'r') as f:\n",
    "    nc_ref = f.readlines()\n",
    "    \n",
    "with open('stat/cb_ref.txt', 'r') as f:\n",
    "    cb_ref = f.readlines()\n",
    "\n",
    "k = 1\n",
    "cb_ref = [k.split('\\t')[1][:-1] for k in cb_ref]\n",
    "# cb_ref = [k.replace(',','') for k in cb_ref]\n",
    "# cb_ref = [k.replace('\\'','') for k in cb_ref]\n",
    "# cb_ref = [k.replace('\\\"','') for k in cb_ref]\n",
    "# cb_ref = [k.replace('\\`','') for k in cb_ref]\n",
    "# cb_ref = [k.replace('(','') for k in cb_ref]\n",
    "# cb_ref = [k.replace(')','') for k in cb_ref]\n",
    "nc_ref = [k.split('\\t')[1][:-2] for k in nc_ref]\n",
    "cb_to_k = {s:i for i,s in enumerate(cb_ref)}\n",
    "nc_to_k = {s:i for i,s in enumerate(nc_ref)}\n",
    "cb_ref_once = removeElements(cb_ref, k)\n",
    "id_to_delete = set(cb_to_k.keys()).difference(set(cb_ref_once))\n",
    "cb_to_k = {key: cb_to_k[key] for key in cb_to_k if key not in id_to_delete}\n",
    "nc_to_k = {key: nc_to_k[key] for key in nc_to_k if key not in id_to_delete}\n",
    "print(len(cb_to_k), len(nc_to_k))"
   ]
  },
  {
   "cell_type": "code",
   "execution_count": null,
   "metadata": {
    "ExecuteTime": {
     "end_time": "2021-04-26T02:12:39.099213Z",
     "start_time": "2021-04-26T02:12:38.961564Z"
    }
   },
   "outputs": [],
   "source": [
    "with open('stat/nc_pred.txt', 'r') as f:\n",
    "    nc_pred = f.readlines()\n",
    "nc_pred = [k.split('\\t')[1][:-2] for k in nc_pred]\n",
    "\n",
    "with open('stat/cb_pred.txt', 'r') as f:\n",
    "    cb_pred = f.readlines()\n",
    "cb_pred = [k.split('\\t')[1][:-1] for k in cb_pred]"
   ]
  },
  {
   "cell_type": "code",
   "execution_count": null,
   "metadata": {
    "ExecuteTime": {
     "end_time": "2021-04-26T02:13:05.405903Z",
     "start_time": "2021-04-26T02:12:57.013142Z"
    }
   },
   "outputs": [],
   "source": [
    "all_info=[]\n",
    "for i,d in enumerate(cb_ref):\n",
    "    if (d in cb_to_k) and (d in nc_to_k):\n",
    "        all_info.append([d, cb_pred[cb_to_k[d]], nc_pred[nc_to_k[d]]])\n",
    "    else:\n",
    "        all_info.append([(d,i), '#not_found#\\n','#not_found#\\n'])\n",
    "\n",
    "cols  = ['ref','cb_pred','nc_pred']\n",
    "all_data_pd = pd.DataFrame.from_records(all_info, columns=cols)"
   ]
  },
  {
   "cell_type": "code",
   "execution_count": null,
   "metadata": {
    "ExecuteTime": {
     "end_time": "2021-04-26T02:13:16.396404Z",
     "start_time": "2021-04-26T02:13:13.926419Z"
    }
   },
   "outputs": [],
   "source": [
    "with open('stat/cs_ref.txt', 'r') as f:\n",
    "    nc_ref = f.readlines()\n",
    "    \n",
    "with open('stat/cb_ref.txt', 'r') as f:\n",
    "    cb_ref = f.readlines()\n",
    "\n",
    "k = 1\n",
    "cb_ref = [k.split('\\t')[1][:-1] for k in cb_ref]\n",
    "cb_ref = [k.replace(',','') for k in cb_ref]\n",
    "cb_ref = [k.replace('\\'','') for k in cb_ref]\n",
    "cb_ref = [k.replace('\\\"','') for k in cb_ref]\n",
    "cb_ref = [k.replace('\\`','') for k in cb_ref]\n",
    "cb_ref = [k.replace('(','') for k in cb_ref]\n",
    "cb_ref = [k.replace(')','') for k in cb_ref]\n",
    "nc_ref = [k[:-1] for k in nc_ref]\n",
    "cb_to_k = {s:i for i,s in enumerate(cb_ref)}\n",
    "nc_to_k = {s:i for i,s in enumerate(nc_ref)}\n",
    "cb_ref_once = removeElements(cb_ref, k)\n",
    "id_to_delete = set(cb_to_k.keys()).difference(set(cb_ref_once))\n",
    "cb_to_k = {key: cb_to_k[key] for key in cb_to_k if key not in id_to_delete}\n",
    "nc_to_k = {key: nc_to_k[key] for key in nc_to_k if key not in id_to_delete}\n",
    "print(len(cb_to_k), len(nc_to_k))"
   ]
  },
  {
   "cell_type": "code",
   "execution_count": null,
   "metadata": {
    "ExecuteTime": {
     "end_time": "2021-04-26T02:13:32.485415Z",
     "start_time": "2021-04-26T02:13:32.436316Z"
    }
   },
   "outputs": [],
   "source": [
    "with open('stat/cs_pred.txt', 'r') as f:\n",
    "    nc_pred = f.readlines()\n",
    "nc_pred = [k[:-1] for k in nc_pred]\n",
    "\n",
    "with open('stat/cb_pred.txt', 'r') as f:\n",
    "    cb_pred = f.readlines()\n",
    "cb_pred = [k.split('\\t')[1][:-1] for k in cb_pred]"
   ]
  },
  {
   "cell_type": "code",
   "execution_count": null,
   "metadata": {
    "ExecuteTime": {
     "end_time": "2021-04-26T02:13:53.909836Z",
     "start_time": "2021-04-26T02:13:53.875756Z"
    }
   },
   "outputs": [],
   "source": [
    "cs_info=[]\n",
    "for i,d in enumerate(cb_ref):\n",
    "    if (d in cb_to_k) and (d in nc_to_k):\n",
    "        cs_info.append( nc_pred[nc_to_k[d]])\n",
    "    else:\n",
    "        cs_info.append('#not_found#\\n')"
   ]
  },
  {
   "cell_type": "code",
   "execution_count": null,
   "metadata": {
    "ExecuteTime": {
     "end_time": "2021-04-26T02:14:33.787928Z",
     "start_time": "2021-04-26T02:14:33.722706Z"
    }
   },
   "outputs": [],
   "source": [
    "all_data_pd['cs_pred'] = cs_info\n",
    "data = all_data_pd.copy()\n",
    "data = data.loc[data['nc_pred']!='#not_found#\\n']\n",
    "data = data.loc[data['cs_pred']!='#not_found#\\n']"
   ]
  },
  {
   "cell_type": "code",
   "execution_count": null,
   "metadata": {
    "ExecuteTime": {
     "end_time": "2021-04-26T02:14:37.576384Z",
     "start_time": "2021-04-26T02:14:37.558310Z"
    }
   },
   "outputs": [],
   "source": [
    "data"
   ]
  },
  {
   "cell_type": "markdown",
   "metadata": {},
   "source": [
    "##### saving in different file to do bootstrap resampling significance test"
   ]
  },
  {
   "cell_type": "code",
   "execution_count": null,
   "metadata": {
    "ExecuteTime": {
     "end_time": "2021-04-26T02:14:52.382772Z",
     "start_time": "2021-04-26T02:14:52.330132Z"
    }
   },
   "outputs": [],
   "source": [
    "with open('stat/stat_ref.txt', 'w') as f:\n",
    "    f.writelines(l+'\\n' for l in list(data['ref']))\n",
    "with open('stat/stat_cb.txt', 'w') as f:\n",
    "    f.writelines(str(l)+'\\n' for l in list(data['cb_pred']))\n",
    "with open('stat/stat_nc.txt', 'w') as f:\n",
    "    f.writelines(l+'\\n' for l in list(data['nc_pred']))\n",
    "with open('stat/stat_cs.txt', 'w') as f:\n",
    "    f.writelines(l+'\\n' for l in list(data['cs_pred']))"
   ]
  },
  {
   "cell_type": "code",
   "execution_count": null,
   "metadata": {
    "ExecuteTime": {
     "end_time": "2021-04-26T02:25:19.607965Z",
     "start_time": "2021-04-26T02:15:06.665142Z"
    }
   },
   "outputs": [],
   "source": [
    "!python3 paired-bootstrap.py stat/stat_ref.txt \\\n",
    "stat/stat_cb.txt \\\n",
    "stat/stat_nc.txt \\\n",
    "--eval_type bleu \\\n",
    "--num_samples 100"
   ]
  },
  {
   "cell_type": "code",
   "execution_count": null,
   "metadata": {
    "ExecuteTime": {
     "end_time": "2021-04-26T02:55:13.252031Z",
     "start_time": "2021-04-26T02:25:19.613408Z"
    }
   },
   "outputs": [],
   "source": [
    "!python3 paired-bootstrap.py stat/stat_ref.txt \\\n",
    "stat/stat_cb.txt \\\n",
    "stat/stat_nc.txt \\\n",
    "--eval_type bleu \\\n",
    "--num_samples 300"
   ]
  },
  {
   "cell_type": "code",
   "execution_count": null,
   "metadata": {},
   "outputs": [],
   "source": [
    "!python3 paired-bootstrap.py stat/stat_ref.txt \\\n",
    "stat/stat_cb.txt \\\n",
    "stat/stat_cs.txt \\\n",
    "--eval_type bleu \\\n",
    "--num_samples 100"
   ]
  }
 ],
 "metadata": {
  "kernelspec": {
   "display_name": "Python 3",
   "language": "python",
   "name": "python3"
  },
  "language_info": {
   "codemirror_mode": {
    "name": "ipython",
    "version": 3
   },
   "file_extension": ".py",
   "mimetype": "text/x-python",
   "name": "python",
   "nbconvert_exporter": "python",
   "pygments_lexer": "ipython3",
   "version": "3.7.6"
  }
 },
 "nbformat": 4,
 "nbformat_minor": 4
}
